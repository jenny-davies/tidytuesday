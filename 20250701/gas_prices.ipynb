{
 "cells": [
  {
   "cell_type": "code",
   "execution_count": 46,
   "id": "5ddd77b5",
   "metadata": {},
   "outputs": [],
   "source": [
    "import pandas as pd\n",
    "import matplotlib.pyplot as plt\n",
    "import seaborn as sns\n",
    "import math"
   ]
  },
  {
   "cell_type": "code",
   "execution_count": 4,
   "id": "a7f56d32",
   "metadata": {},
   "outputs": [
    {
     "data": {
      "text/html": [
       "<div>\n",
       "<style scoped>\n",
       "    .dataframe tbody tr th:only-of-type {\n",
       "        vertical-align: middle;\n",
       "    }\n",
       "\n",
       "    .dataframe tbody tr th {\n",
       "        vertical-align: top;\n",
       "    }\n",
       "\n",
       "    .dataframe thead th {\n",
       "        text-align: right;\n",
       "    }\n",
       "</style>\n",
       "<table border=\"1\" class=\"dataframe\">\n",
       "  <thead>\n",
       "    <tr style=\"text-align: right;\">\n",
       "      <th></th>\n",
       "      <th>date</th>\n",
       "      <th>fuel</th>\n",
       "      <th>grade</th>\n",
       "      <th>formulation</th>\n",
       "      <th>price</th>\n",
       "    </tr>\n",
       "  </thead>\n",
       "  <tbody>\n",
       "    <tr>\n",
       "      <th>0</th>\n",
       "      <td>1990-08-20</td>\n",
       "      <td>gasoline</td>\n",
       "      <td>regular</td>\n",
       "      <td>all</td>\n",
       "      <td>1.191</td>\n",
       "    </tr>\n",
       "    <tr>\n",
       "      <th>1</th>\n",
       "      <td>1990-08-20</td>\n",
       "      <td>gasoline</td>\n",
       "      <td>regular</td>\n",
       "      <td>conventional</td>\n",
       "      <td>1.191</td>\n",
       "    </tr>\n",
       "    <tr>\n",
       "      <th>2</th>\n",
       "      <td>1990-08-27</td>\n",
       "      <td>gasoline</td>\n",
       "      <td>regular</td>\n",
       "      <td>all</td>\n",
       "      <td>1.245</td>\n",
       "    </tr>\n",
       "    <tr>\n",
       "      <th>3</th>\n",
       "      <td>1990-08-27</td>\n",
       "      <td>gasoline</td>\n",
       "      <td>regular</td>\n",
       "      <td>conventional</td>\n",
       "      <td>1.245</td>\n",
       "    </tr>\n",
       "    <tr>\n",
       "      <th>4</th>\n",
       "      <td>1990-09-03</td>\n",
       "      <td>gasoline</td>\n",
       "      <td>regular</td>\n",
       "      <td>all</td>\n",
       "      <td>1.242</td>\n",
       "    </tr>\n",
       "  </tbody>\n",
       "</table>\n",
       "</div>"
      ],
      "text/plain": [
       "         date      fuel    grade   formulation  price\n",
       "0  1990-08-20  gasoline  regular           all  1.191\n",
       "1  1990-08-20  gasoline  regular  conventional  1.191\n",
       "2  1990-08-27  gasoline  regular           all  1.245\n",
       "3  1990-08-27  gasoline  regular  conventional  1.245\n",
       "4  1990-09-03  gasoline  regular           all  1.242"
      ]
     },
     "execution_count": 4,
     "metadata": {},
     "output_type": "execute_result"
    }
   ],
   "source": [
    "# download data\n",
    "df = pd.read_csv('https://raw.githubusercontent.com/rfordatascience/tidytuesday/main/data/2025/2025-07-01/weekly_gas_prices.csv')\n",
    "\n",
    "df.head()"
   ]
  },
  {
   "cell_type": "code",
   "execution_count": 5,
   "id": "f4729173",
   "metadata": {},
   "outputs": [
    {
     "name": "stdout",
     "output_type": "stream",
     "text": [
      "<class 'pandas.core.frame.DataFrame'>\n",
      "RangeIndex: 22360 entries, 0 to 22359\n",
      "Data columns (total 5 columns):\n",
      " #   Column       Non-Null Count  Dtype  \n",
      "---  ------       --------------  -----  \n",
      " 0   date         22360 non-null  object \n",
      " 1   fuel         22360 non-null  object \n",
      " 2   grade        22360 non-null  object \n",
      " 3   formulation  19672 non-null  object \n",
      " 4   price        22360 non-null  float64\n",
      "dtypes: float64(1), object(4)\n",
      "memory usage: 873.6+ KB\n"
     ]
    }
   ],
   "source": [
    "df.info()"
   ]
  },
  {
   "cell_type": "code",
   "execution_count": 6,
   "id": "4dfa4664",
   "metadata": {},
   "outputs": [
    {
     "name": "stdout",
     "output_type": "stream",
     "text": [
      "1990-08-20\n",
      "2025-06-23\n"
     ]
    }
   ],
   "source": [
    "print(min(df['date']))\n",
    "print(max(df['date']))"
   ]
  },
  {
   "cell_type": "code",
   "execution_count": 8,
   "id": "5799e2f7",
   "metadata": {},
   "outputs": [
    {
     "name": "stdout",
     "output_type": "stream",
     "text": [
      "['gasoline' 'diesel']\n",
      "['regular' 'all' 'midgrade' 'premium' 'ultra_low_sulfur' 'low_sulfur']\n",
      "['all' 'conventional' nan 'reformulated']\n"
     ]
    }
   ],
   "source": [
    "print(df['fuel'].unique())\n",
    "print(df['grade'].unique())\n",
    "print(df['formulation'].unique())"
   ]
  },
  {
   "cell_type": "code",
   "execution_count": 33,
   "id": "02a7b461",
   "metadata": {},
   "outputs": [
    {
     "name": "stdout",
     "output_type": "stream",
     "text": [
      "<class 'pandas.core.frame.DataFrame'>\n",
      "RangeIndex: 22360 entries, 0 to 22359\n",
      "Data columns (total 5 columns):\n",
      " #   Column       Non-Null Count  Dtype         \n",
      "---  ------       --------------  -----         \n",
      " 0   date         22360 non-null  datetime64[ns]\n",
      " 1   fuel         22360 non-null  object        \n",
      " 2   grade        22360 non-null  object        \n",
      " 3   formulation  19672 non-null  object        \n",
      " 4   price        22360 non-null  float64       \n",
      "dtypes: datetime64[ns](1), float64(1), object(3)\n",
      "memory usage: 873.6+ KB\n"
     ]
    }
   ],
   "source": [
    "# convert date column to datetime\n",
    "df['date'] = pd.to_datetime(df['date'])\n",
    "\n",
    "df.info()"
   ]
  },
  {
   "cell_type": "markdown",
   "id": "a3cacb13",
   "metadata": {},
   "source": [
    "## Petrol"
   ]
  },
  {
   "cell_type": "code",
   "execution_count": 51,
   "id": "065d3dbe",
   "metadata": {},
   "outputs": [
    {
     "name": "stdout",
     "output_type": "stream",
     "text": [
      "['gasoline']\n",
      "['regular' 'all' 'midgrade' 'premium']\n",
      "['all' 'conventional' 'reformulated']\n"
     ]
    }
   ],
   "source": [
    "petrol = df[df['fuel'] == 'gasoline']\n",
    "\n",
    "print(petrol['fuel'].unique())\n",
    "print(petrol['grade'].unique())\n",
    "print(petrol['formulation'].unique())"
   ]
  },
  {
   "cell_type": "markdown",
   "id": "b0603ac1",
   "metadata": {},
   "source": [
    "## All grades, all formulations"
   ]
  },
  {
   "cell_type": "code",
   "execution_count": 52,
   "id": "843dd4d0",
   "metadata": {},
   "outputs": [
    {
     "data": {
      "text/html": [
       "<div>\n",
       "<style scoped>\n",
       "    .dataframe tbody tr th:only-of-type {\n",
       "        vertical-align: middle;\n",
       "    }\n",
       "\n",
       "    .dataframe tbody tr th {\n",
       "        vertical-align: top;\n",
       "    }\n",
       "\n",
       "    .dataframe thead th {\n",
       "        text-align: right;\n",
       "    }\n",
       "</style>\n",
       "<table border=\"1\" class=\"dataframe\">\n",
       "  <thead>\n",
       "    <tr style=\"text-align: right;\">\n",
       "      <th></th>\n",
       "      <th>date</th>\n",
       "      <th>fuel</th>\n",
       "      <th>grade</th>\n",
       "      <th>formulation</th>\n",
       "      <th>price</th>\n",
       "    </tr>\n",
       "  </thead>\n",
       "  <tbody>\n",
       "    <tr>\n",
       "      <th>262</th>\n",
       "      <td>1993-04-05</td>\n",
       "      <td>gasoline</td>\n",
       "      <td>all</td>\n",
       "      <td>all</td>\n",
       "      <td>1.068</td>\n",
       "    </tr>\n",
       "    <tr>\n",
       "      <th>265</th>\n",
       "      <td>1993-04-12</td>\n",
       "      <td>gasoline</td>\n",
       "      <td>all</td>\n",
       "      <td>all</td>\n",
       "      <td>1.079</td>\n",
       "    </tr>\n",
       "    <tr>\n",
       "      <th>268</th>\n",
       "      <td>1993-04-19</td>\n",
       "      <td>gasoline</td>\n",
       "      <td>all</td>\n",
       "      <td>all</td>\n",
       "      <td>1.079</td>\n",
       "    </tr>\n",
       "    <tr>\n",
       "      <th>271</th>\n",
       "      <td>1993-04-26</td>\n",
       "      <td>gasoline</td>\n",
       "      <td>all</td>\n",
       "      <td>all</td>\n",
       "      <td>1.086</td>\n",
       "    </tr>\n",
       "    <tr>\n",
       "      <th>274</th>\n",
       "      <td>1993-05-03</td>\n",
       "      <td>gasoline</td>\n",
       "      <td>all</td>\n",
       "      <td>all</td>\n",
       "      <td>1.086</td>\n",
       "    </tr>\n",
       "    <tr>\n",
       "      <th>...</th>\n",
       "      <td>...</td>\n",
       "      <td>...</td>\n",
       "      <td>...</td>\n",
       "      <td>...</td>\n",
       "      <td>...</td>\n",
       "    </tr>\n",
       "    <tr>\n",
       "      <th>22290</th>\n",
       "      <td>2025-05-26</td>\n",
       "      <td>gasoline</td>\n",
       "      <td>all</td>\n",
       "      <td>all</td>\n",
       "      <td>3.288</td>\n",
       "    </tr>\n",
       "    <tr>\n",
       "      <th>22304</th>\n",
       "      <td>2025-06-02</td>\n",
       "      <td>gasoline</td>\n",
       "      <td>all</td>\n",
       "      <td>all</td>\n",
       "      <td>3.256</td>\n",
       "    </tr>\n",
       "    <tr>\n",
       "      <th>22318</th>\n",
       "      <td>2025-06-09</td>\n",
       "      <td>gasoline</td>\n",
       "      <td>all</td>\n",
       "      <td>all</td>\n",
       "      <td>3.235</td>\n",
       "    </tr>\n",
       "    <tr>\n",
       "      <th>22332</th>\n",
       "      <td>2025-06-16</td>\n",
       "      <td>gasoline</td>\n",
       "      <td>all</td>\n",
       "      <td>all</td>\n",
       "      <td>3.265</td>\n",
       "    </tr>\n",
       "    <tr>\n",
       "      <th>22346</th>\n",
       "      <td>2025-06-23</td>\n",
       "      <td>gasoline</td>\n",
       "      <td>all</td>\n",
       "      <td>all</td>\n",
       "      <td>3.338</td>\n",
       "    </tr>\n",
       "  </tbody>\n",
       "</table>\n",
       "<p>1682 rows × 5 columns</p>\n",
       "</div>"
      ],
      "text/plain": [
       "            date      fuel grade formulation  price\n",
       "262   1993-04-05  gasoline   all         all  1.068\n",
       "265   1993-04-12  gasoline   all         all  1.079\n",
       "268   1993-04-19  gasoline   all         all  1.079\n",
       "271   1993-04-26  gasoline   all         all  1.086\n",
       "274   1993-05-03  gasoline   all         all  1.086\n",
       "...          ...       ...   ...         ...    ...\n",
       "22290 2025-05-26  gasoline   all         all  3.288\n",
       "22304 2025-06-02  gasoline   all         all  3.256\n",
       "22318 2025-06-09  gasoline   all         all  3.235\n",
       "22332 2025-06-16  gasoline   all         all  3.265\n",
       "22346 2025-06-23  gasoline   all         all  3.338\n",
       "\n",
       "[1682 rows x 5 columns]"
      ]
     },
     "execution_count": 52,
     "metadata": {},
     "output_type": "execute_result"
    }
   ],
   "source": [
    "reg_petrol = petrol[(petrol['grade'] == 'all') & (petrol['formulation'] == 'all')]\n",
    "\n",
    "reg_petrol"
   ]
  },
  {
   "cell_type": "code",
   "execution_count": 53,
   "id": "5946b164",
   "metadata": {},
   "outputs": [
    {
     "name": "stdout",
     "output_type": "stream",
     "text": [
      "1682\n",
      "1682\n"
     ]
    }
   ],
   "source": [
    "# check each date has a unique value\n",
    "print(len(reg_petrol))\n",
    "print(len(reg_petrol['date'].unique()))"
   ]
  },
  {
   "cell_type": "markdown",
   "id": "1f95fe7a",
   "metadata": {},
   "source": [
    "### Plot"
   ]
  },
  {
   "cell_type": "code",
   "execution_count": 54,
   "id": "2999b017",
   "metadata": {},
   "outputs": [
    {
     "data": {
      "image/png": "[encoded data removed]",
      "text/plain": [
       "<Figure size 640x480 with 1 Axes>"
      ]
     },
     "metadata": {},
     "output_type": "display_data"
    }
   ],
   "source": [
    "sns.set_theme()\n",
    "\n",
    "plt.plot('date',\n",
    "         'price',\n",
    "         data = reg_petrol)\n",
    "\n",
    "plt.show()"
   ]
  },
  {
   "cell_type": "markdown",
   "id": "c72a8f6a",
   "metadata": {},
   "source": [
    "# Diesel"
   ]
  },
  {
   "cell_type": "code",
   "execution_count": 34,
   "id": "9a25ab94",
   "metadata": {},
   "outputs": [
    {
     "name": "stdout",
     "output_type": "stream",
     "text": [
      "['diesel']\n",
      "['all' 'ultra_low_sulfur' 'low_sulfur']\n",
      "[nan]\n"
     ]
    }
   ],
   "source": [
    "diesel = df[df['fuel'] == 'diesel']\n",
    "\n",
    "print(diesel['fuel'].unique())\n",
    "print(diesel['grade'].unique())\n",
    "print(diesel['formulation'].unique())"
   ]
  },
  {
   "cell_type": "markdown",
   "id": "a98c0366",
   "metadata": {},
   "source": [
    "## All grades"
   ]
  },
  {
   "cell_type": "code",
   "execution_count": 48,
   "id": "4b073e66",
   "metadata": {},
   "outputs": [
    {
     "data": {
      "text/html": [
       "<div>\n",
       "<style scoped>\n",
       "    .dataframe tbody tr th:only-of-type {\n",
       "        vertical-align: middle;\n",
       "    }\n",
       "\n",
       "    .dataframe tbody tr th {\n",
       "        vertical-align: top;\n",
       "    }\n",
       "\n",
       "    .dataframe thead th {\n",
       "        text-align: right;\n",
       "    }\n",
       "</style>\n",
       "<table border=\"1\" class=\"dataframe\">\n",
       "  <thead>\n",
       "    <tr style=\"text-align: right;\">\n",
       "      <th></th>\n",
       "      <th>date</th>\n",
       "      <th>fuel</th>\n",
       "      <th>grade</th>\n",
       "      <th>formulation</th>\n",
       "      <th>price</th>\n",
       "    </tr>\n",
       "  </thead>\n",
       "  <tbody>\n",
       "    <tr>\n",
       "      <th>415</th>\n",
       "      <td>1994-03-21</td>\n",
       "      <td>diesel</td>\n",
       "      <td>all</td>\n",
       "      <td>NaN</td>\n",
       "      <td>1.106</td>\n",
       "    </tr>\n",
       "    <tr>\n",
       "      <th>419</th>\n",
       "      <td>1994-03-28</td>\n",
       "      <td>diesel</td>\n",
       "      <td>all</td>\n",
       "      <td>NaN</td>\n",
       "      <td>1.107</td>\n",
       "    </tr>\n",
       "    <tr>\n",
       "      <th>423</th>\n",
       "      <td>1994-04-04</td>\n",
       "      <td>diesel</td>\n",
       "      <td>all</td>\n",
       "      <td>NaN</td>\n",
       "      <td>1.109</td>\n",
       "    </tr>\n",
       "    <tr>\n",
       "      <th>427</th>\n",
       "      <td>1994-04-11</td>\n",
       "      <td>diesel</td>\n",
       "      <td>all</td>\n",
       "      <td>NaN</td>\n",
       "      <td>1.108</td>\n",
       "    </tr>\n",
       "    <tr>\n",
       "      <th>431</th>\n",
       "      <td>1994-04-18</td>\n",
       "      <td>diesel</td>\n",
       "      <td>all</td>\n",
       "      <td>NaN</td>\n",
       "      <td>1.105</td>\n",
       "    </tr>\n",
       "    <tr>\n",
       "      <th>...</th>\n",
       "      <td>...</td>\n",
       "      <td>...</td>\n",
       "      <td>...</td>\n",
       "      <td>...</td>\n",
       "      <td>...</td>\n",
       "    </tr>\n",
       "    <tr>\n",
       "      <th>22302</th>\n",
       "      <td>2025-05-26</td>\n",
       "      <td>diesel</td>\n",
       "      <td>all</td>\n",
       "      <td>NaN</td>\n",
       "      <td>3.487</td>\n",
       "    </tr>\n",
       "    <tr>\n",
       "      <th>22316</th>\n",
       "      <td>2025-06-02</td>\n",
       "      <td>diesel</td>\n",
       "      <td>all</td>\n",
       "      <td>NaN</td>\n",
       "      <td>3.451</td>\n",
       "    </tr>\n",
       "    <tr>\n",
       "      <th>22330</th>\n",
       "      <td>2025-06-09</td>\n",
       "      <td>diesel</td>\n",
       "      <td>all</td>\n",
       "      <td>NaN</td>\n",
       "      <td>3.471</td>\n",
       "    </tr>\n",
       "    <tr>\n",
       "      <th>22344</th>\n",
       "      <td>2025-06-16</td>\n",
       "      <td>diesel</td>\n",
       "      <td>all</td>\n",
       "      <td>NaN</td>\n",
       "      <td>3.571</td>\n",
       "    </tr>\n",
       "    <tr>\n",
       "      <th>22358</th>\n",
       "      <td>2025-06-23</td>\n",
       "      <td>diesel</td>\n",
       "      <td>all</td>\n",
       "      <td>NaN</td>\n",
       "      <td>3.775</td>\n",
       "    </tr>\n",
       "  </tbody>\n",
       "</table>\n",
       "<p>1632 rows × 5 columns</p>\n",
       "</div>"
      ],
      "text/plain": [
       "            date    fuel grade formulation  price\n",
       "415   1994-03-21  diesel   all         NaN  1.106\n",
       "419   1994-03-28  diesel   all         NaN  1.107\n",
       "423   1994-04-04  diesel   all         NaN  1.109\n",
       "427   1994-04-11  diesel   all         NaN  1.108\n",
       "431   1994-04-18  diesel   all         NaN  1.105\n",
       "...          ...     ...   ...         ...    ...\n",
       "22302 2025-05-26  diesel   all         NaN  3.487\n",
       "22316 2025-06-02  diesel   all         NaN  3.451\n",
       "22330 2025-06-09  diesel   all         NaN  3.471\n",
       "22344 2025-06-16  diesel   all         NaN  3.571\n",
       "22358 2025-06-23  diesel   all         NaN  3.775\n",
       "\n",
       "[1632 rows x 5 columns]"
      ]
     },
     "execution_count": 48,
     "metadata": {},
     "output_type": "execute_result"
    }
   ],
   "source": [
    "all_diesel = diesel[diesel['grade'] == 'all']\n",
    "\n",
    "all_diesel"
   ]
  },
  {
   "cell_type": "code",
   "execution_count": 49,
   "id": "fe9ebf41",
   "metadata": {},
   "outputs": [
    {
     "name": "stdout",
     "output_type": "stream",
     "text": [
      "1632\n",
      "1632\n"
     ]
    }
   ],
   "source": [
    "# check each date has a unique value\n",
    "print(len(all_diesel))\n",
    "print(len(all_diesel['date'].unique()))"
   ]
  },
  {
   "cell_type": "markdown",
   "id": "3b6c0668",
   "metadata": {},
   "source": [
    "### Plot"
   ]
  },
  {
   "cell_type": "code",
   "execution_count": 50,
   "id": "d89f4eed",
   "metadata": {},
   "outputs": [
    {
     "data": {
      "image/png": "[encoded data removed]",
      "text/plain": [
       "<Figure size 640x480 with 1 Axes>"
      ]
     },
     "metadata": {},
     "output_type": "display_data"
    }
   ],
   "source": [
    "sns.set_theme()\n",
    "\n",
    "plt.plot('date',\n",
    "         'price',\n",
    "         data = all_diesel)\n",
    "\n",
    "plt.show()"
   ]
  },
  {
   "cell_type": "markdown",
   "id": "666ad229",
   "metadata": {},
   "source": [
    "# Combined"
   ]
  },
  {
   "cell_type": "code",
   "execution_count": 61,
   "id": "67f8b8a0",
   "metadata": {},
   "outputs": [
    {
     "data": {
      "text/html": [
       "<div>\n",
       "<style scoped>\n",
       "    .dataframe tbody tr th:only-of-type {\n",
       "        vertical-align: middle;\n",
       "    }\n",
       "\n",
       "    .dataframe tbody tr th {\n",
       "        vertical-align: top;\n",
       "    }\n",
       "\n",
       "    .dataframe thead th {\n",
       "        text-align: right;\n",
       "    }\n",
       "</style>\n",
       "<table border=\"1\" class=\"dataframe\">\n",
       "  <thead>\n",
       "    <tr style=\"text-align: right;\">\n",
       "      <th></th>\n",
       "      <th>date</th>\n",
       "      <th>diesel_price</th>\n",
       "      <th>petrol_price</th>\n",
       "    </tr>\n",
       "  </thead>\n",
       "  <tbody>\n",
       "    <tr>\n",
       "      <th>0</th>\n",
       "      <td>1994-03-21</td>\n",
       "      <td>1.106</td>\n",
       "      <td>1.007</td>\n",
       "    </tr>\n",
       "    <tr>\n",
       "      <th>1</th>\n",
       "      <td>1994-03-28</td>\n",
       "      <td>1.107</td>\n",
       "      <td>1.012</td>\n",
       "    </tr>\n",
       "    <tr>\n",
       "      <th>2</th>\n",
       "      <td>1994-04-04</td>\n",
       "      <td>1.109</td>\n",
       "      <td>1.011</td>\n",
       "    </tr>\n",
       "    <tr>\n",
       "      <th>3</th>\n",
       "      <td>1994-04-11</td>\n",
       "      <td>1.108</td>\n",
       "      <td>1.028</td>\n",
       "    </tr>\n",
       "    <tr>\n",
       "      <th>4</th>\n",
       "      <td>1994-04-18</td>\n",
       "      <td>1.105</td>\n",
       "      <td>1.033</td>\n",
       "    </tr>\n",
       "    <tr>\n",
       "      <th>...</th>\n",
       "      <td>...</td>\n",
       "      <td>...</td>\n",
       "      <td>...</td>\n",
       "    </tr>\n",
       "    <tr>\n",
       "      <th>1627</th>\n",
       "      <td>2025-05-26</td>\n",
       "      <td>3.487</td>\n",
       "      <td>3.288</td>\n",
       "    </tr>\n",
       "    <tr>\n",
       "      <th>1628</th>\n",
       "      <td>2025-06-02</td>\n",
       "      <td>3.451</td>\n",
       "      <td>3.256</td>\n",
       "    </tr>\n",
       "    <tr>\n",
       "      <th>1629</th>\n",
       "      <td>2025-06-09</td>\n",
       "      <td>3.471</td>\n",
       "      <td>3.235</td>\n",
       "    </tr>\n",
       "    <tr>\n",
       "      <th>1630</th>\n",
       "      <td>2025-06-16</td>\n",
       "      <td>3.571</td>\n",
       "      <td>3.265</td>\n",
       "    </tr>\n",
       "    <tr>\n",
       "      <th>1631</th>\n",
       "      <td>2025-06-23</td>\n",
       "      <td>3.775</td>\n",
       "      <td>3.338</td>\n",
       "    </tr>\n",
       "  </tbody>\n",
       "</table>\n",
       "<p>1632 rows × 3 columns</p>\n",
       "</div>"
      ],
      "text/plain": [
       "           date  diesel_price  petrol_price\n",
       "0    1994-03-21         1.106         1.007\n",
       "1    1994-03-28         1.107         1.012\n",
       "2    1994-04-04         1.109         1.011\n",
       "3    1994-04-11         1.108         1.028\n",
       "4    1994-04-18         1.105         1.033\n",
       "...         ...           ...           ...\n",
       "1627 2025-05-26         3.487         3.288\n",
       "1628 2025-06-02         3.451         3.256\n",
       "1629 2025-06-09         3.471         3.235\n",
       "1630 2025-06-16         3.571         3.265\n",
       "1631 2025-06-23         3.775         3.338\n",
       "\n",
       "[1632 rows x 3 columns]"
      ]
     },
     "execution_count": 61,
     "metadata": {},
     "output_type": "execute_result"
    }
   ],
   "source": [
    "diesel_prep = all_diesel[['date', 'price']]\n",
    "\n",
    "diesel_prep = diesel_prep.rename(columns = {'price': 'diesel_price'})\n",
    "\n",
    "petrol_prep = reg_petrol[['date', 'price']]\n",
    "\n",
    "petrol_prep = petrol_prep.rename(columns = {'price': 'petrol_price'})\n",
    "\n",
    "combined = diesel_prep.merge(petrol_prep, on = 'date')\n",
    "\n",
    "combined"
   ]
  },
  {
   "cell_type": "code",
   "execution_count": 62,
   "id": "abed546f",
   "metadata": {},
   "outputs": [
    {
     "name": "stdout",
     "output_type": "stream",
     "text": [
      "1632\n",
      "1632\n"
     ]
    }
   ],
   "source": [
    "# check each date has a unique value\n",
    "print(len(combined))\n",
    "print(len(combined['date'].unique()))"
   ]
  },
  {
   "cell_type": "code",
   "execution_count": 68,
   "id": "fb04c6aa",
   "metadata": {},
   "outputs": [
    {
     "data": {
      "image/png": "[encoded data removed]",
      "text/plain": [
       "<Figure size 640x480 with 1 Axes>"
      ]
     },
     "metadata": {},
     "output_type": "display_data"
    }
   ],
   "source": [
    "plt.plot('date', 'diesel_price', data = combined,\n",
    "         marker = '',\n",
    "         linestyle = 'dashed')\n",
    "\n",
    "plt.plot('date', 'petrol_price', data = combined)\n",
    "\n",
    "plt.legend()\n",
    "plt.title('Diesel and petrol prices in the USA over time')\n",
    "plt.xlabel('Time')\n",
    "plt.ylabel('Average retail price per gallon in USD')\n",
    "\n",
    "plt.savefig('plot.png')\n",
    "\n",
    "plt.show()"
   ]
  }
 ],
 "metadata": {
  "kernelspec": {
   "display_name": "Python 3",
   "language": "python",
   "name": "python3"
  },
  "language_info": {
   "codemirror_mode": {
    "name": "ipython",
    "version": 3
   },
   "file_extension": ".py",
   "mimetype": "text/x-python",
   "name": "python",
   "nbconvert_exporter": "python",
   "pygments_lexer": "ipython3",
   "version": "3.10.4"
  }
 },
 "nbformat": 4,
 "nbformat_minor": 5
}
